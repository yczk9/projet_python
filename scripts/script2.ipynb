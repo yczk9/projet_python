{
 "cells": [
  {
   "cell_type": "markdown",
   "id": "ac2a78bd",
   "metadata": {},
   "source": [
    "TEST"
   ]
  },
  {
   "cell_type": "code",
   "execution_count": null,
   "id": "80d3e50e",
   "metadata": {},
   "outputs": [],
   "source": [
    "print('TEST')"
   ]
  }
 ],
 "metadata": {
  "language_info": {
   "name": "python"
  }
 },
 "nbformat": 4,
 "nbformat_minor": 5
}
